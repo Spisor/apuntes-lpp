{
  "nbformat": 4,
  "nbformat_minor": 0,
  "metadata": {
    "colab": {
      "name": "Memoria.ipynb",
      "version": "0.3.2",
      "provenance": [],
      "collapsed_sections": [],
      "include_colab_link": true
    },
    "kernelspec": {
      "name": "python3",
      "display_name": "Python 3"
    }
  },
  "cells": [
    {
      "cell_type": "markdown",
      "metadata": {
        "id": "view-in-github",
        "colab_type": "text"
      },
      "source": [
        "<a href=\"https://colab.research.google.com/github/Spisor/apuntes-lpp/blob/master/Memoria.ipynb\" target=\"_parent\"><img src=\"https://colab.research.google.com/assets/colab-badge.svg\" alt=\"Open In Colab\"/></a>"
      ]
    },
    {
      "metadata": {
        "id": "yjxyvECGYd2Y",
        "colab_type": "text"
      },
      "cell_type": "markdown",
      "source": [
        "# Memoria de desafío\n",
        "\n",
        "### Grupo formado por\n",
        "\n",
        "Mario Nieto Pérez, 54205299A\n",
        "\n",
        "Gilberto Jesús Brito X9541470N\n",
        "\n",
        "Pablo Aragonés López 53978792T"
      ]
    },
    {
      "metadata": {
        "id": "aUMCP-ILYskH",
        "colab_type": "text"
      },
      "cell_type": "markdown",
      "source": [
        "\n",
        "#Indice\n",
        "\n",
        "* Introduccion\n",
        "* Explicación de la red básica - Lenet5\n",
        "* Funcionamiento básico\n",
        " * Image Data Augmentation\n",
        " * Cross validation\n",
        " * Comparativas con/sin mejoras\n",
        "* Funcionamiento extendido\n",
        " * Clasificación avanzada\n",
        " * Pre-procesado de imágenes\n",
        " * Ajustes en el algoritmo de optimización\n",
        "    * Comparativas entre algoritmos\n",
        " * Ajustes extra\n",
        " * Comparativas entre distintos ajustes\n",
        "* Mejoras avanzadas\n",
        " * Custom data augmentation\n",
        " * Uso de redes preentrenadas\n",
        "* Referencias"
      ]
    },
    {
      "metadata": {
        "id": "Vhb0yjuuZHbQ",
        "colab_type": "text"
      },
      "cell_type": "markdown",
      "source": [
        "#Introducción\n",
        "\n",
        "El problema que tenemos que resolver consiste en el reconocimiento de imágenes tomadas de los ojos de pacientes donde tenemos que distinguir si el paciente tiene o no retinopatia diabética.\n",
        "\n",
        "Esta enfermedad ocurre porque los niveles altos de azúcar en la sangre causan daño a los vasos sanguíneos en la retina. Estos vasos sanguíneos pueden hincharse y tener fugas de líquido. También pueden cerrarse e impedir que la sangre fluya. A veces, se generan nuevos vasos sanguíneos anormales en la retina. Todos estos cambios pueden hacerle perder la visión.\n",
        "\n",
        "Aquí tenemos una imágen comparando un ojo sano con un ojo enfermo:\n",
        "\n",
        "![texto alternativo](https://medlineplus.gov/spanish/ency/images/ency/fullsize/17150.jpg)\n",
        "\n",
        "En nuestro problema, la versión simplificada consistirá en discernir entre un ojo enfermo y un ojo sano. En el caso complejo, tenemos que discernir entre 4 posibilidades:\n",
        "\n",
        "* Sano\n",
        "* Poco enfermo\n",
        "* Enfermo\n",
        "* Muy enfermo\n"
      ]
    },
    {
      "metadata": {
        "id": "dHtZ7YwRcAuH",
        "colab_type": "text"
      },
      "cell_type": "markdown",
      "source": [
        "#Explicación de red básica - Lenet5\n",
        "\n",
        "Lenet5 es una de las redes neuronales más conocidas en el mundo del deep learning. Está ha sido empleada en multitud de problemas, empleandola como base para distintos problemas. Entre los más conocidos tenemos el reconocimiento de digitos en documentos escritos.\n",
        "\n",
        "![texto alternativo](data:image/png;base64,iVBORw0KGgoAAAANSUhEUgAAAYgAAACBCAMAAADt5d1oAAABMlBMVEX///+AgIDDw8PHx8d7e3vAwMCDg4MAAAB5eXmFhYXS0tLl5eWVlZXBwcHx8fF6enqPj4/U1NS4uLj5+fmxsbHLy8uLi4va2trr6+tbW1vg4OBzc3OZmZlNTU3Z2dmkpKSgoKC4srKsrKxhYWFqampJSUlWVlZBQUH5//86OjosLCwkJCT///g8PDzG0NoeHh5RV17f6fTT2uGtoZTHvLG2raKmsr/z7uju9PkTExP06d5sZmC4wckxMTHNxb2Thn1ydodeUUiclYhKQDmSnKZ0gIzg2NCbpK92amGPiYFhZXZ/eWllbHSFjpW7sqnX0cdscHdiXFmdkIFHUmCCc2y+s6RlaF4gFyJKPCyWnaSHkqKvu8lFR1FSTUtmdnwyOUQAGzRqXU42KyIpLDdRORhmUjnllcgkAAAffklEQVR4nO2dCWPaOLf3ZYzBG8abbMd2sGvI0k5KEyBAE0o6mQTCPFmaNnPvTTrzzH237/8V3iOzGbBZEtJlbv5d4niV9ZN0zpFkG6EXvehFL3rRi35sXVP3yLgnS71KzGYP1agDdO3KFbSno0Nut79ysPCitanzgK4LldOmjhp/NxESRK9X7hhlRWw15DJCp//eO1fsw5Sop3d7V3sPR2etzkHvHBa63zvl/zDVILdR47apIWTAUrt8gjI0/Xu1eeLe07DCaHy5rvtpVOyUkXFU33uoXiLEkYXvnPB/mhqX6EJt1VoWQhkkAZceMo6Fy8ODO8b8AtspdN4489nGJwqW9847X3ulXbJwU//eKf+nqSNWUKCjFEJ8o4IaTR4pnQBX/UrDJTaDRx0fneopVbZg+caTKrAXj9re9073j6prqov2VLJ02OqviTO9SwtP2mLVdZ90uv85Apt72Lx7QCpqfBDc1p7YvflCI7pjCAbk4KH86l4Tu3vuPfLXUZRrVAYMBVmqtmI2y6idLqNrUWyhKkcAnnL/YzCGNhddQSuP5Gr3mGZurXoeGacHF6m/EXI69aqS+9Ws33iX+hqudtvsNGt/ghcL1MHMcLJbPzK6HeO+IYMzdbiPHL5Sa4m+LBQxuu8oG3gNF/0esiA/Lc00EZhQy7QL2sIjiM092LsiB3DV8nWvdSecsejT6e6FIMKqTqtqtC7Meq2OL9ZQOCV3w7zqkdaLeFpH9WqT66hf2pU/3HM1XPlaufJ76K5RZ9rd2hfE1H5SZ/f8j99R5rp7fZVGRw94W20uPqRDvH6MGPKfrzZ8XfJsESu7DZGsbwgFwVc7lwHygqVTwafoCaXs4Za/pGpd/atiE6dKCEEYd/Z+u3WqF3YQWVmSzv2evd+TzjrdnmN22z+pj3V1bZTlWr191QMQqLeu0zZWqwx8LjUhZgRCCoCuDc4TKmg20gRh12wEfO0e/C9yiQJqeLvt+xaWKze6VtmrtNV13cI31vlh8/i8VleQsyyIvbzTbFAeddBhzzWHhTUdh5Wc/FNSwU9ySOXs+fsLkxW34/s/vYm+um42fq8dQKD7qXiwFIjafYCoa6PL2ejOPuvhlmGiz/js7ik9QgTERNskxO9nDVQoPOFi/xQdfj1U9Ye9MxdV6zfdXvP/tdB1FxYOnnBOAEHL1KTSzMxuGjOUaiz2Kn4uiSI6zJCK7l8NFhapc9XjvXwvXf/jd1zrnqS4T+0v+Lp+sm4Q+TgQQxuCkPvPCrgblWql1bhSG3S51modLdW9ZtuoFwivKMtUUEGwkCSECwuOSrPlG4p4NI1PsxuXrhGDJiwHv0iZuJDhp60ojdsDdNw8/IL2jiuwsOxhik6vdh2Ix2kGFTsV9JnQPqT8vCZyzV7mwDOaIxDpiJx4EExAxCuKgnDGmtqh/alXr12RQPLzUyrod9DR15v6bQX1ikL3qHtbecby1GbP0CnppWgTB4dF5zfloNe6QtSFPwKRVqe8J2bSeyIgVJZQYlm2BKGo505epAT2/M4ot5uoWmFLr1rXatrpvC0vTJxGNyFAlSzFVCSlH9ySxfXd/WK9CjTPxxgccE/y/MVJfqxqZ9Jl9UxokO7vMDp7uPEeDlulxlVwWE8EkYsBkR40XSzJJ82YiBsABC+gY1iqVsSLSoar3vdefQ032TKEGiIpabmZxDX2lVspj2p1ehOffr1+YNHRFf4r9U1BLC+TX1GTVgMHGmZSDQs1mgqcDNmNJoMtR0UdHT0KhNOvviYV2Qeapu5JcH7TRJ/1q4sKuHVXziDUrpXR3nmnAnaF1Xz4oUh+0/b6PvdhBR3dG6jWQmlUbV2fUahxBYs/qHgmtZKmmhUJ8k0Ku7LIQrhKG5XOKIj4ro7+AQMQnO+6rihAQEHW6vK4RdWk4cnhhwY2Txpuq11yypdeGUoH1Vb2Dw+oC37/dNACAIGbOktYsQDChIoFbgu73uxbn6aj30WaLM1HV+ndqodPytp/VdAf57BG+7XcX0ATIOa5sQCCJiAMHLpOEE/0s1kc9fN2dhuugAZxthatk5DLRw/hqCt1govot/KxfX86dE7ujE+oSl3uIg5Vh8Ett/YcXJNmot8FSk00TYfUVSNge11ROqw07u87V5+0WhkWRudeBgSRxAIIeljrBuVdoJTw5012t4dK1YPSbPI7kMHXxi4gU9uuj25Rh2u1f8r5ISSzXHkFuR64AcOjqwc1Iyh3ytASH1yIO+j/ltFNGRZ2R+eOgoi6sWwCiGE80VeOC1ukahPdnPVQb1EOz/TR+kjI/yT9VWFmpakVFM3EhuN07tMXn1qoBvd7X2sdAwhYiJx7DCKtM2OpKYzpcTMnOX0Qo3iCH9SKcEDwc7N9hU7i2/deuoX+lZDZ138jB/78FIqLfheimCjNVVHtxY8WYIZJRUGo9KS9YWZBTMQT/S0cjdq7Pfm+QcWNqiLqut4pJZV6GTzqH9Y8T+rpIEYOzYwky5LcKIj5biwaeE/9CHzsM/HUdKgdVck0Nk+Tho045GgxfS8/okYg0suLne2mSJSfngSRbPhHbqxKpEPIMmIRiMkXuKWvrNgZCOHdoYY4j+KapQmP1RiEyKwgaN/xkr1SUyBokYvIkGVjfJ4BiMzIeRrXNI0VVT1UMNMNWfhx+gSlVTJxQhEQU+33Qi1ZK1yHdaIgjKlmjp2IJ8IaEQMCggpn0Gm4ZUDc5zH2wsy3bEGwBfLfqvn5aEkrRsfRzHw0iNm+nVjZilKgV4snhl5saiKv/fzgCE4jbQDtkTg8wDH99JbCkI3iBtuXM6dhW6/WBmKVyG6FDvN58YQTCyJnhCGL77vjFn5EIh1pskzGc11qZ7s0qDAAwFcH/WFaZuCWp+Wn5e/SWhcIPcOtIGjfjeXSNy+eYGbjCQKCHfgPTsTUujEkhkeVtsON6YkBvjGJJRP6VK0NxEqBHbnBQQJwkg2yh5uXjifyGY6AGPWKR32eEYn8DIlRSzfRDGnciMQ3seffH0TS+fs5vGI8wQxApKdqxNw6MdoySWJUJ7hvQWKtIFaIJ/LDoDUJRCSH3TnxxNQ0GyaXYyAlmTCcwDyPtehZBjVlhsRwy6RBGNeJzDcgsU4QK8UTDO4bbTyds7MR2xQIWp6IJwyDGxt/07RNsBFx8QQSh/mdn47TxnViwiCM6gRFPf/Q3FpBPMaNxTEBwiBX0myqn4PLxxNETgKIMQl2Dolo4R/Vidn2bO1KBkFK5XcFARnWB2EXChPxxPTu+XgQs/FEMgmLHeY4951IJIGgaZ/zktrveSBWjSf4fs7GGhJn3ObwUyDmxBNOOp8UT8hLkMjEk5hpz9asBBDYz4Je55LLeAKI1eIJaOCh8ELOcrlYO5IaFWnixhpjEFPxBDAd23ZiqEkC84MGLuo9LUFi0iCMScwcsV7Fg8AyYPiQzb5buUas7saGIIwk4sOhT0sQLDECYk48QUTmncXm4FNILJq6+CTFgqC9bHYnh+H/t4mt03pBcItAEA29J2OpeIKJjyeWIZGOJ+E8ZxdgfI2AVokYUWifnMSAa/0gYr3YSFqnQSR4u0TReEKdjCeMJUhMGIQICXPt+T9SHAi8nc2GqzGbzQYJZXX9IBgqyYwMCqjI9t1YY4l4wrYLSfFEMglhRIJNIPF8T2HEgCANk9u/A/w6+0tClXgGEPmEXZxBLioYh+Gf8cR4YikS0RoWIaE8BwSiGBD4Q3ZnkPu0ms2y8SSeAUTSodE+CX4OiPzEOIeWHE8sRSJqECIk+HUTGGgWBC1ms/qwJOF0NjvtoDwriNhwIpKLeArExH5TICbiCdeNjEAne0JjEk4CiWd6bHsWBP4lu4Gjv+3EVonnAWGk4sKJSJGejifUxfFEP2snvKc5PqntjEhEDUKExIrPgTwWBKkQEd8wYjC+CYiV44np/eK7xcM8j7RDy5GIGoQIiRUmojwaBI35N9litAqAC/X+BwJB5M4Bsez4xLhndR6JqEGIkHiOJ7cnQeDtrRK4rjja38dks+mYxmlJEBmiFUEsjCeo5HhizvgExBN4HE+MSThzSEQNQqQWPQOJKRCkhyn7S5EL6BEMnB9EFY8BkdnZ3Nza5ubgmAURG0+QLiwqKZ7ITAYUmTE1iCfI+MQocI/OdxolYV6diBqECIl1vN1lHoiUW8wO9NYRVRzSoN9nt2erxJIgNjmu+GYTtF108pnMLJEYEEmt2+PjiTGISAs3h4Q5JhGtihESy79V5HEg8EZ2RzeKvwxobFNeCmM3Lr5eFkSG4jahRlBpp7i92SdSYqkxkRVAROOJaTc2qtl4YtSDMhFPLEciSvUZSUyBUImPRGPM+OnNAYw3Dv82pvNv6RqR4Tb7dWBQH9JOaaOPpFhyqAyFaWyMADwaxOJ4giHxhEHiidFppPGpk0lMGIQIiTU/Xj9lI5zsu36WExq6WHoNJDZwEOPCrmAjNkcQQo2afbZUJBakmC6W8jka52Cv5UEsiCciz9qRTan48YnRtIHZntXCmETUIERI+M8Igs5mIx3SUJVxyqN8GlzYd9NVYmmviStt9yvASNvbG8ViqeQ4bJriKJxTneKGUyoWdzY3SjqDUxQXb9ujIFaPJ2LHJ8Yk2Dkkos1QZMxu6pHuNYKgjWx2ugkKh66hxZr28JePIzLTotKs45Qg54vQRm2Bz7O5tQVYnK2d12/AOr1/93orNCT92yVzb0Jl2KlZLavFE/HjE3PqhPJNSUyAwG+ypdj+DFyaIfTkgG5AJR/mqAGWgkReHM2oXgkgbWxvkzqRKb79JfthcwO0s7PjTbbk8+KJhPEJJowncCSeWI5E1CBEZhSscYpyFATpzojv4SNDRVO9sOuKrMlEMzEd8Zpo+DnyqTIbLMc5G9CcORt5ykq5YuQhh4XxxDgIsO3E+U6jqTRzSfjxJNY3RTkKAm9mtxJGH2gqm518uds6QcgOleA1AQgqrDxU6e3ODoGgjWGQeIKeF09EYwCkTYCItHJSfIcrEb+QxNqmKEdBgCXwk/p66OlR03WCgOKamweCiCuyaQEguLQWhTE3nogHMRNPWMuQmDAIURJrmo4ZAQG+a9JwHKSem+roWCeIwet+5oLIFJ2+sRZ00Q0UAsPVLcTTc+KJSRBOfhBPEInReGIpEhMGIUJiTVOUIyCg0GeSKkTY0TFhyNcNgsmpC0GMck5TPNdVBSnns5yO5ajRzo01GU9ok/EEZPrYe5pDAo9JRA1ChMR6piiPQZCBiEQMJMsnLfl6QSAIC0x2aRD9pNOu6wW06m7DTgz9pHgiQmJ6psZCEuuZojwGgV9PDkRE7yYcJnuXLeWYgXO4dhBo/CqHZUH0c1D1PRKOOLI6rBkTWjaeEJYiETXNERLrmBg7AkHriVNn8FZp8837dx+g6dqi8mxaDtRw3irP5FLrAcE/GgSRWwIQTskZ1Iwlxie42XhiORJRg7BeEiMQuJj9kOS7siTJKfV9dmsznQc7J3Jsng1SqYJguVRmDSDCMUmpxLKZGRD9Jw1hccNJeiGDyKZZhvGp7bdvXpPOe3kijucy1Nho29PjE+OMFcYdrtMk6IUknj4xdtw0ZbNygqmmnXADprK/pDHNBG4mzebTXhD4nlfcLDoihMU69WQQGpmRl5rq9HM2N3def/jl3fv32ez715sl1vA8lVasaBEkb1IDEwEA2A124/3rrWKai/ZVTcUTSeMTy5Ggoqa5/8Ax6YSZGeZ7LAgSsSXGEH0QZNCUOE7DsUuB1qF93tza2SpBBSk6aZcAeTyIMJeYKRDUuLs249g2zqmeK7LFbTJiAlwoOdBp09IQD3UWImsqh7Fe3Hn/fqeYhyP6p8jHg5iJJxImcEySGJlmzVR9kaU42fUDXWWWfHZ8MQh/J76bKQICIu+xOR+Ml/h5tuQY6XTp9Zs3O06eMhzItwXD1CuBiO465Sdqkq3QauBybHHz7esPOx92tjY50VM5zsiUtj+82SlSIYxpEIN4ggvjCVGUR7VrHomxPUhbNoQyrofX+uzK2FjjxBhiBKIYmfE0AIHBYJPBCxUS73B5dvNdNuw8dcjA8zI8pkH044n4XefcOQ9pMFinJMscC1R2dgDKzrssqRlTIIjBJr01cfFEMgkNfIWw294Q/fRzvO1ymWfohiDo7Q+lES1m8hykSSJNEwFS3Nh6C03Hmx3gkVnEYxIEEizLZpN2nXP/FhxIxifAv8b9zj+4aJotlTZK0yCIkuKJBBIFI0CStKbOjHitAiKFeWceiKGx7jfrZJB668P797+87dePhPZqCgSKdsKtAIJIjOlzysw0TaESH2QxY0ioxvNM7pvQUiDYYfbTYxAR4yTlIArpg6AjxnpgZqGGbO98ePNhJ769emYQRLMgtEE8MQsiSqLvy/nysz4pNNRSIEqvhhovvbJGMoNXr3xoQg0IkjyHnVU+DGRLUEE+9HnMB1GKOQUbfUXczCF9yePxiQmlZ2uEIAh2elAkpmIAOx8hYcvevAZpjYiWAiEaQ8mjJU4f6RUA8Lc3NkqwNb29kawiEfycD0JLfJNyNE9ipscXwnhiDGL4kgNHlyDfbdMsKIoC++BwHEPd3ihmpkBoQsrzKdYZlCanNDGrafaKa3yCaKkH3hfNgUSkHGWIsab12SHqWc0HsZwSnlMgcY4MHtPmm+2hNrYNMrEDQ7yoFAqmmQpkBxxtd3swLB62eBb2XHBJc+FLtTRNkiwL4E1kdMx8/G8NIk5DYz1oLoir88TIejXNAxFOpuLG3PtZaPE6ZLbvM4V+mp3+rIS0Qx6eUM2FPlHMFX8kEIPkmVCb5R8BBHmt0GYmnGI4wOAUMy4p7UMAA40/xhJ5KeaKV/wBQUhQ70mw971BgO8giVsEBDWc41ksjebqLeqaWxXENzbWy4AYnut7gyByi4NZz4PpIGOvadF1VgWxRv0TQYjUpE8wjiMWPZ27HAjNmH5p+PxZ+nZjic+hrBOEBe1z8AOAkKfij/GE7hGIU8chmXMqTH7HdLSd6czm3eiKvx6gY8QHmr0raG0GtVVEIx0jXgdj0wi0RtCUeB2ZuoAYjIQA/VqooMBq8OQTJYkugYQfq9kM0aCBxkkPS39DEIXp+GNkGkYZ/S/410Xqqf2A0CHbPHQqbeMKycVyg7qHGtX+u1BpO+UbmYq8ZH94xb3fUSrVuL95+NysMpftm/22/fH64KLw5QZOti3cb1h/3pxff/1N2D9snab2O1220z0Wbpnzw9aOkvTe5adrKkMSe+y+IYhkjUF8KkF+OgTE0QO6PkfFk+aJ9gU5F/SdX98rXN20LtHtYfmPSMUYXfFPZN3xjvvwebda0W8rr275j9fGsXK2d44a56jzEd3dfD2qf0Lcyb1/3UVWr9H9hKpe+ajePn6+D9h+LxCPclgmasTv6JKA6Dyg0wdU6u2eSh8Rd1F5FdT3UiGI48ODWhyI9n6maF72ztuXv+Fimtno4Y8n/m/0A4BAF8bZnXHeB8F2PkFNyNRP3O6pcdn+2qlviM/3SecpEGZcX9M8hZ9oeLYXK0xpBOIQmpzTtHdt1Ym9ODhly9e719o9ChoshXpOk2Uq12yrfXATscrP6zU9WVOOiEQ+zLeKwtv75iAeo5/1S/Gr6FsVticB/1Heq7821YywvvMRh6R/j3sYr+lbS9f9S8x2fzcqs+smJElhP4iWmOs/Co62cz+5gny7CjWayz943DlHx00LSSdlGxxNJOSQxUu4KZmVvY+KJkBGpeIM8bUzdYk2+VKZvRfnD7bP0IYmaVoJNxFtITuFLCzRmqXYRw9YsnmkpRI6O/Y++CIpDL9X479selNZ/xPWj1LnEl23Gl7TotU9Gyma1/yjXED25zpGr2hUgBgmWPSlqr1bp0y+/3bavcv9+9C+al9dtP43fXn4cMI/9Oy/a2cXyn/OHlU7QycHgrdrM2VB0+yGt/u5YmnW/+J5uKKGg10hGH/fVvuLrdzUj7q/8vvVuty4qnV/xe/wx8/dO76bPrw6qdwq/ychcZeC1S7f0OcAolMsmsWitMOetYvbzR7V7Vxe9s5krXhcuUifPz4P16Iqcec2rf3D7udKce/81tq4rlyi0h9lp9o6LUMM87m16LHXThNd0N29h8/opuUXC5R4RSEHUYfNIx9AdPeuPsZ9Vv5fkM17+43Lk/JFu/tHed/aP1XBHzwRHu7si9Rlu/ubPa4bN7voV/rrUTeDTizuk5TvdR30H4g6RTd+lzo8aOOPiIpP3N6m3qqVb1oExEkT3TWP7j8itlbu6Dv+nw7SapX0YQWdf//vcdXqqKFCxOIdtMtVSvgdffYqn5BTO8inEXGdqYa7v6Cdb7z1t6Wt3sPnq1vlshdcVj+ykEvONfjcH3s2OONVMaZGnFbQTdBFTg+d7jpO4wHdnaqto/rp3kMJ1bz63tlN+mq0c+dPf7+xf1f/L//T4f1t+7wHO/0HYqvnt/YZe1iplU/Ev+MTt/dvco/V1kcAcVo+dMo1/SNKAxr1EnknB6dBmW13O3C67w0CHXNbTYhYSKjT+G90YnyqVS64y5tzp3N527xE6eur4kKDa/WNoRZ+SHRoFqvloRkUzf3ZY/b+4vbRLdeFuKtZPUPHxtnnyuZxveo/XFMbne7e2bF7Fdl9cAlp+DfU+JPzhnmZkDbio3qqxUO9RV4LBTqs4YVmw+qIAvJbWsAj1YN1/1xf1ho18Q196a+ZryZ7VEQE9Udxfl70ohe96EUvetGLXvSiF73oRS960Yte9KI1SzIKvjCcoksHo9nSw3dOiAj5o87L6QenXB3R/cEH2bbVwQ5aKfJ2zkCZ/Oak2D/N+DqIURDiRTTxWI4IvwSMRE498XD5xI++cnJks0/uwUx6vMuFC0dfuQS37vX3VYev6+Ci+0deCsQMrjLnyTEzbgR2sL83eiOgLiWegkOmaUlMOCcxsIYJtR2kqTpK2RmsYVQSLForpPgMUiWeVi0MmafRtsDCjnCgSSO+hAoaLZQEMoUzHIRUyON/lIRoRPOSTkuqZfM0omxB1UoWj2wyR9G2chIPNyBxioKwYtuMpTJwNhdSq6Q1HtF2hqdthpdoRVKxLIUZxmHJgvPpGnnLRlEq0AhSijTsaLbEpGytZFu8AMlXNVpSGEQrKJUy9RTCWknCJF06bQ1uXbByJuJTOIATS7ALhRhT01Pk/JACchpEk+7uksZjKWfxhkSbQkq1yKcR+ByNFY0RbDV80FGAc/Jh17hNnqEvpCDxAQFAK1oJNiu0pac0WLbs+MezWd2UdE/qM5OHBTCAczgahaw08kUoa6WCKEpWAGkX9ULK5chdyBpgg4qgbag8b3ECxbsuYlRNC8uV4gGiIjmVoNocXxCVAmMzhsD4pOjCPrKMOIkRCTBLcrAty7YeaKxW8GhfIsMCJTNQjQCZKqsEkm5zmtwvJmnklng9rXE8lFMDEuGSlzKwKINE31KxKSLdhYxyNMd0AsmVAtWUEcVD3YQ/ViAF1KCws6qpqawVWDTmwvNSBlIdxEp6SfEhMxhymhR5z4AhUS4kXlIRZ6meINMGeTOPiDKaykm6QDIPMkJifSFcIgd7HmNgON6zdAHSqbmMkNYCXZOR58eCcCAfApzRFCDqpgr9NyJINORhGomCSWmujAxFlMy0ZMoCZ7GBZXnhBSBngLwuMZxmMchXAsGWsSQxQkaCGlPi04SGpmPsWxyNsSd5KYW1dEcyFABhBQbKiHZJZciLSjRHcwXBowB8iedIjWAQDqA2eCra5hmady0DpXWTl0iGyaIkUCiwC+EvtkpGPQ1tGxk0h+iCiFULqkgeKhaWLV1xhZKJMjRvIK4A3Hia0uSwULLIdoM8FgVVIZ90diQ3bXqsTVmBSOqeoULJQ0VIAUprsiQqjiJaFB34EsPDlTEGvDp2sJfDOZL9WDIsyAjE2htQ/NQA2xiAp7AvQfqgFBUoywskg9cLcc8KS9CkSpZvOWQ4q1DQ+pUW6plpmRqyNVOAXNIkZCNNIKNetgXbwobOhmNJHhZgN2iXEPmh9TcglcxHDg2GScq7ZgvQVsB1kIkEQdOgDYG9TMFEtgRbkD3YSt6dRQ604UIFCdZZ8BeRUwsaXMyUbPJMW3gcIqmDC5gSpCs0C7YlCa7lwGngeuTKYYLgpBpTcBVbsGxInamR3QVyAUi+WUACuX1LIGdwCrBZkCTY3D81OU1/dg1cxYK0QmIkgaRO0MhjqbYV3oAokEn5lmUNsoicE/YjO5HfLI0khTyPbwqCIJG7j6sQfQl4rV/1Sp4T9FQteODHxnGPUml4mWFN6ZFjn0Jh8XNIj1DcTLiwAix+1C+UNpqRFDmTPTiW1Lfx6kHBEJ7/S9E/ozIx68KK7FnImjdfceCzaqO5k+x4pT4op1LYqPcF7kx/obD2DzH87GL07ZQgpwIVez7De+AYqPo2jT05ZwYeGB9PD1LEVVMDhRNxuJ3Rfaw6jOszhZImyypxv8RAtjyRThXJC120gPfB2QdHQQQLbOs0U7J1UWFlkwX757tYTwk/yMy5H0iOrxMPL43yvCgGdLhGTQVYKYAzq4O9D50YcAggQEl5dOhxOSjvI4OXBVkLJEU1NE+VAAjvhMGRrIUTsVSb1tPg8Eg6i2QAbamB5WuuqiA1J76AmBFpLVxbtFMKgyF+GqxRMVZ8nVHBdwt44rdBjYEAiGwXmAKfEjzbBddNFXTTzHng+yuiBnlNk7dRqbadgrbKzqmIweD76FZKllTe1D2BBI86prGvqHNfdvGiqDxlzV8PedGLXvSiF/3A+v8Jq6AT0T8lCwAAAABJRU5ErkJggg==)\n",
        "\n",
        "La red está compuesta de la siguiente estructura:\n",
        "\n",
        "* Convolucion\n",
        "\n",
        "* Max pooling\n",
        "\n",
        "* Convolucion\n",
        "\n",
        "* Max pooling\n",
        "\n",
        "* Flatten\n",
        "\n",
        "* Dense\n",
        "\n",
        "* Dense\n",
        "\n",
        "* Dense\n",
        "\n",
        "Esta estructura básica es de la que vamos a partir para el problema que tenemos nosotros.\n"
      ]
    },
    {
      "metadata": {
        "id": "RPy1MmgccHIz",
        "colab_type": "text"
      },
      "cell_type": "markdown",
      "source": [
        "#Funcionamiento básico\n"
      ]
    },
    {
      "metadata": {
        "id": "2ja-UwbKcNTJ",
        "colab_type": "text"
      },
      "cell_type": "markdown",
      "source": [
        "###Image Data Augmentation"
      ]
    },
    {
      "metadata": {
        "id": "uCKKsqVbmoI4",
        "colab_type": "text"
      },
      "cell_type": "markdown",
      "source": [
        "Una de las primeras mejoras que hemos añadido ha sido para solventar uno de los problemas iniciales del enunciado: la cantidad de imágenes y, por tanto, de datos, no es muy alta. Para ello hemos decidido emplear una de las soluciones ya implementadas en keras, emplear  Image Data Augmentation.\n",
        "\n",
        "Esta técnica consiste en crear un generador de imágenes en base a unos parametros, que serviran para aplicar transformaciones aleatorias a las imágenes del dataset e ir generando nuevas imágenes. Esto creará un objeto que servirá de iterador para la red.\n",
        "\n",
        "Los parámetros que hemos decidido emplear tras experimentar con varios de ellos son los siguientes:\n",
        "\n"
      ]
    },
    {
      "metadata": {
        "id": "6l1HMrB3n0Y-",
        "colab_type": "code",
        "colab": {}
      },
      "cell_type": "code",
      "source": [
        "data_gen_args = dict(\n",
        "                   horizontal_flip=True,\n",
        "                   width_shift_range = 0.1,\n",
        "                   height_shift_range = 0.1,\n",
        "                   rotation_range=10)"
      ],
      "execution_count": 0,
      "outputs": []
    },
    {
      "metadata": {
        "id": "JmBWX_Iin1gF",
        "colab_type": "text"
      },
      "cell_type": "markdown",
      "source": [
        "Con estos argumentos podemos crear los generadores:\n"
      ]
    },
    {
      "metadata": {
        "id": "tKhuiQcrn_xN",
        "colab_type": "code",
        "colab": {}
      },
      "cell_type": "code",
      "source": [
        "train_data_generator = ImageDataGenerator(**data_gen_args)\n",
        "  \n",
        "train_generator = train_data_generator.flow(x_train,\n",
        "                                              y_train_nn,\n",
        "                                              batch_size=batch_size)\n",
        "  "
      ],
      "execution_count": 0,
      "outputs": []
    },
    {
      "metadata": {
        "id": "D9t-PK5aoAf1",
        "colab_type": "text"
      },
      "cell_type": "markdown",
      "source": [
        "Y estos generadores serán pasados a la hora de entrenar al modelo para que en ligar de emplear el dataset original emplee este generador para crear nuevas imágenes. Para ello, se emplea la siguiente función:\n"
      ]
    },
    {
      "metadata": {
        "id": "56yFgN2YoNId",
        "colab_type": "code",
        "colab": {}
      },
      "cell_type": "code",
      "source": [
        "  history = model.fit_generator(train_generator,\n",
        "                      steps_per_epoch=  x_train.shape[0]//batch_size,\n",
        "                      epochs=epochs, \n",
        "                      verbose=2,\n",
        "                      validation_data=(x_test, y_test_nn),\n",
        "                      class_weight=class_weights)"
      ],
      "execution_count": 0,
      "outputs": []
    },
    {
      "metadata": {
        "id": "2_HKOuS_cU5R",
        "colab_type": "text"
      },
      "cell_type": "markdown",
      "source": [
        "###Cross Validation"
      ]
    },
    {
      "metadata": {
        "id": "8i1LXC8I2tO7",
        "colab_type": "text"
      },
      "cell_type": "markdown",
      "source": [
        "Cross validation es una técnica empleada en análisis estadístico que se emplea para garantizar que los resultados de un análisis estadístico son independientes de como se realice la partición entre las particiones. En el caso de Aprendizaje Automático, nos sirve para comprobar que el entrenamiento de un modelo no depende de la partición entre entrenemiento/test.\n",
        "\n",
        "La técnica se puede implementar de distintas maneras, dependiendo de la forma de realizar las particiones. En nuestro caso, hemos empleado K-folds. Consiste en dividir el espacio en K partes, y probar dejando una de las partes para test y las otras K-1 partes para entrenar el modelo. En nuestro caso, K=10, por lo que tendremos 10 entrenamientos del modelo en cada experimento.\n",
        "\n",
        "El código empleado es el siguiente:\n"
      ]
    },
    {
      "metadata": {
        "id": "g0IaGxNP4I1P",
        "colab_type": "code",
        "colab": {}
      },
      "cell_type": "code",
      "source": [
        "kFold = StratifiedKFold(n_splits=10, shuffle=True, random_state=2)\n"
      ],
      "execution_count": 0,
      "outputs": []
    },
    {
      "metadata": {
        "id": "IJBQRohj4JQd",
        "colab_type": "text"
      },
      "cell_type": "markdown",
      "source": [
        "La función StartifiedKFold sirve para indicar como queremos realizar las separaciones, en nuestro caso, empleamos 10 separaciones, mezclando de todas las classes (shuffle=true) y con la misma seed para random, de tal forma que siempre probemos las mismas separaciones y así podamos comparar entre experimentos. Así, el bucle nos quedaría de la siguiente forma:"
      ]
    },
    {
      "metadata": {
        "id": "AI6rSTcv4JkA",
        "colab_type": "code",
        "colab": {}
      },
      "cell_type": "code",
      "source": [
        "for train, test in kFold.split(x,y):\n",
        "\n",
        "  # obtener entrenamiento y test\n",
        "  x_train = x[train]\n",
        "  y_train = y[train]\n",
        "  x_test = x[test]\n",
        "  y_test = y[test]\n",
        " \n",
        "  #codigo para entrenar con esos datos"
      ],
      "execution_count": 0,
      "outputs": []
    },
    {
      "metadata": {
        "id": "AGRa1mRa4J7X",
        "colab_type": "text"
      },
      "cell_type": "markdown",
      "source": [
        "Por último, los resultados los almacenamos en un vector, al final de cada iteración. Aquí podemos ver un ejemplo de como quedarían los valores para un experimento:\n"
      ]
    },
    {
      "metadata": {
        "id": "_Pb3uzfb4eEJ",
        "colab_type": "code",
        "colab": {}
      },
      "cell_type": "code",
      "source": [
        "  #...\n",
        "  \n",
        "  #almacena la media de la curva roc en el vector auc_mean_v\n",
        "    auc_mean_v.append(np.array(list(roc_auc.values())).mean())\n",
        "    \n",
        "  #fin del for\n"
      ],
      "execution_count": 0,
      "outputs": []
    },
    {
      "metadata": {
        "id": "jKXFqLIw52Ur",
        "colab_type": "code",
        "colab": {}
      },
      "cell_type": "code",
      "source": [
        "Medias de todas las curvas ROC\n",
        "Auc mean number 1 = 0.56 \n",
        "Auc mean number 2 = 0.48 \n",
        "Auc mean number 3 = 0.50 \n",
        "Auc mean number 4 = 0.48 \n",
        "Auc mean number 5 = 0.56 \n",
        "Auc mean number 6 = 0.60 \n",
        "Auc mean number 7 = 0.50 \n",
        "Auc mean number 8 = 0.55 \n",
        "Auc mean number 9 = 0.49 \n",
        "Auc mean number 10 = 0.53 \n",
        "Final Mean: 0.53"
      ],
      "execution_count": 0,
      "outputs": []
    },
    {
      "metadata": {
        "id": "DdPexxoLcJ7-",
        "colab_type": "text"
      },
      "cell_type": "markdown",
      "source": [
        "#Funcionamiento extendido\n"
      ]
    },
    {
      "metadata": {
        "id": "pU5cgnvjceBD",
        "colab_type": "text"
      },
      "cell_type": "markdown",
      "source": [
        "###Clasificación avanzada \n",
        "\n",
        "La clasificación avanzada consiste en lugar de emplear la clasificación binaria que teníamos anteriormente, que discernia entre enfermo o sano pasar a una clasificación de 4 clases, donde tenemos las siguientes posibilidades:\n",
        "\n",
        "* Sano\n",
        "* Enfermo leve\n",
        "* Enfermo normal\n",
        "* Enfermo grave"
      ]
    },
    {
      "metadata": {
        "id": "9ufa8cGuckSF",
        "colab_type": "text"
      },
      "cell_type": "markdown",
      "source": [
        "###Pre-procesado de imágenes"
      ]
    },
    {
      "metadata": {
        "id": "aZmlyJ-NTSHp",
        "colab_type": "text"
      },
      "cell_type": "markdown",
      "source": [
        "\n",
        "#### Blanco y negro\n",
        "\n",
        "Una de las mejoras que intentamos fue la de pasar las imágenes a blanco y negro para trabajar en una escala de grises en lugar de con imágenes RGB. Esto lo hicimos con el proposito de que, al tener la imágen en blanco y negro, podíamos aplicar ciertos métodos de aumentar el contraste de las imágenes y hacer que así se notase más las diferencias en las imágenes en cosas como las zonas de hemorragia, las venas, etc. Los resultados sin embargo no fueron satisfactorios, y decidimos descartar estos cambios en pos de probar otras ideas. En el código puede verse reflejado en el apartado de cargar las imágenes y en el de crear la red, que tienen ambas un parametro para decir si se cargan o no las imágenes en blanco y negro."
      ]
    },
    {
      "metadata": {
        "id": "mDBP1sJIzMuH",
        "colab_type": "text"
      },
      "cell_type": "markdown",
      "source": [
        "#### Modificación HSV"
      ]
    },
    {
      "metadata": {
        "id": "uoQ_h3zgyqri",
        "colab_type": "text"
      },
      "cell_type": "markdown",
      "source": [
        "Este es el código que hemos añadido cuando se muestran los ejemplos para recorrer todas las imagenes y alterar el matiz, saturacion y brillo.\n",
        "\n",
        "Sin poder mostrar una comparativa correcta, puesto que no hemos probado con todos los modelos, hemos observado que la mejora no era significante y en algunos casos, según la modificación, la curva ROC empeoraba.\n",
        "\n",
        "Al final, hemos optado por no implementarlo, dada la desmejoría en el rendimiento de la CNN."
      ]
    },
    {
      "metadata": {
        "id": "XZ0H3uqlygNT",
        "colab_type": "code",
        "colab": {}
      },
      "cell_type": "code",
      "source": [
        "for i in range(len(x)):\n",
        "  value = 0\n",
        "  value1 = 0\n",
        "  value2 = 0\n",
        "  imghsv = color.rgb2hsv(x[i])\n",
        "  h, s, v = cv2.split(imghsv)\n",
        "\n",
        "  lim = 255 - value\n",
        "  h[h > lim] = 255\n",
        "  h[h <= lim] += value\n",
        "\n",
        "  lim1 = 255 - value1\n",
        "  s[s > lim1] = 255\n",
        "  s[s <= lim1] += value1\n",
        "\n",
        "  lim2 = 255 - value2\n",
        "  v[v > lim2] = 255\n",
        "  v[v <= lim2] += value2\n",
        "\n",
        "  final_hsv = cv2.merge((h, s, v))\n",
        "  x[i] = color.hsv2rgb(final_hsv)\n"
      ],
      "execution_count": 0,
      "outputs": []
    },
    {
      "metadata": {
        "id": "qccPix4vc2sA",
        "colab_type": "text"
      },
      "cell_type": "markdown",
      "source": [
        "###Ajustes del algoritmo de optimización\n",
        "\n",
        "\n",
        "\n",
        "La red neuronal para estimar las diferencias entre lo previsto y lo que ha calculado genera, mediante una función, un coste que es la suma de los errores. Lo que nosotros buscamos es optimizar los parámetros de la red para que este coste sea el mínimo posible, y para esto disponemos de varias funciones llamadas Optimizadores. Existen multitud de funciones, pero para nuestra práctica nosotros hemos decidido probar 3:\n",
        "\n",
        "* **SGD**\n",
        "* **ADAM**\n",
        "* **ADADELTA**\n",
        "\n"
      ]
    },
    {
      "metadata": {
        "id": "MlJJ8UWEc65P",
        "colab_type": "text"
      },
      "cell_type": "markdown",
      "source": [
        "####Comparativa entre algoritmos\n",
        "\n",
        "Para comparar los distintos algoritmos hemos decidido realizar la ejecución del experimento con los mismos párametros, y hemos cambiado tan solo el optimizador. Hemos empleado cross-validation, el image-data-generator y hemos desactivado el resto de ajustes de la red.\n",
        "\n",
        "**SGD VS ADAM**\n",
        "\n",
        "![texto alternativo](https://i.gyazo.com/e41c3118981d885edc13a79548cfe977.png)\n",
        "\n",
        "**SGD VS ADADELTA**\n",
        "\n",
        "![texto alternativo](https://i.gyazo.com/1a0dc0fff09e0e780b0040b2a0f5fec8.png)\n",
        "\n",
        "**ADAM VS ADADELTA**\n",
        "\n",
        "![texto alternativo](https://i.gyazo.com/0b745f82478fa81f927b6655448e7446.png)\n",
        "\n",
        "Con estos resultados, nuestra decisión fue la de emplear el algoritmo de ADAM para la red.\n"
      ]
    },
    {
      "metadata": {
        "id": "x886IJaFP8qV",
        "colab_type": "text"
      },
      "cell_type": "markdown",
      "source": [
        "####Optimizacion de ADAM\n",
        "\n",
        "Con el objetivo de optimizar aún más el algoritmo de optimización, la segunda parte de este apartado consistión en retocar los distintos parametros del algoritmo ADAM para obtener una mejora en el comportamiento de la red. Estos parametros son:\n",
        "\n",
        "* Learnign rate\n",
        "* Beta_1\n",
        "* Beta_2\n",
        "* Emplear o no la variante AMSGRAD\n",
        "\n",
        "Al igual que los anteriores, estos experimentos se han realizado empleando únicamente CrossValidation y DataAugmentation, y se han repetido cambiando los parametros del algoritmo.\n",
        "\n",
        "\n",
        "#### **Por defecto:**\n",
        "Learning Rate = 0.001, Beta1=0.9, Beta2=0.99,AMSGRAD=false\n",
        "\n",
        "- Auc mean number 1 = 0.62 \n",
        "\n",
        "- Auc mean number 2 = 0.57 \n",
        "\n",
        "- Auc mean number 3 = 0.61 \n",
        "\n",
        "- Auc mean number 4 = 0.45 \n",
        "\n",
        "- Auc mean number 5 = 0.59 \n",
        "\n",
        "- Auc mean number 6 = 0.60 \n",
        "\n",
        "- Auc mean number 7 = 0.55 \n",
        "\n",
        "- Auc mean number 8 = 0.54 \n",
        "\n",
        "- Auc mean number 9 = 0.54 \n",
        "\n",
        "- Auc mean number 10 = 0.61 \n",
        "\n",
        "- **Final Mean: 0.57** \n",
        "\n",
        "#### **AMSGRAD = true**\n",
        " Learning Rate = 0.001, Beta1=0.9, Beta2=0.99,AMSGRAD=true\n",
        "\n",
        "Medias de todas las curvas ROC\n",
        "\n",
        "- Auc mean number 1 = 0.61 \n",
        "\n",
        "- Auc mean number 2 = 0.58 \n",
        "\n",
        "- Auc mean number 3 = 0.64 \n",
        "\n",
        "- Auc mean number 4 = 0.64 \n",
        "\n",
        "- Auc mean number 5 = 0.49 \n",
        "\n",
        "- Auc mean number 6 = 0.58 \n",
        "\n",
        "- Auc mean number 7 = 0.58 \n",
        "\n",
        "- Auc mean number 8 = 0.50 \n",
        "\n",
        "- Auc mean number 9 = 0.56 \n",
        "\n",
        "- Auc mean number 10 = 0.50 \n",
        "\n",
        "- **Final Mean: 0.57**\n",
        "\n",
        "#### **Beta1=0.95**\n",
        "Learning Rate = 0.001, Beta1=0.9, Beta2=0.99,AMSGRAD=false\n",
        "\n",
        "Medias de todas las curvas ROC\n",
        "\n",
        "- Auc mean number 1 = 0.64 \n",
        "\n",
        "- Auc mean number 2 = 0.57 \n",
        "\n",
        "- Auc mean number 3 = 0.54 \n",
        "\n",
        "- Auc mean number 4 = 0.61 \n",
        "\n",
        "- Auc mean number 5 = 0.57 \n",
        "\n",
        "- Auc mean number 6 = 0.51 \n",
        "\n",
        "- Auc mean number 7 = 0.60 \n",
        "\n",
        "- Auc mean number 8 = 0.59 \n",
        "\n",
        "- Auc mean number 9 = 0.58 \n",
        "\n",
        "- Auc mean number 10 = 0.47 \n",
        "\n",
        "- **Final Mean: 0.57 **\n",
        "\n",
        "#### **Beta2=0.95**\n",
        "Learning Rate = 0.001, Beta1=0.9, Beta2=0.99,AMSGRAD=false\n",
        "\n",
        "\n",
        "Medias de todas las curvas ROC\n",
        "\n",
        "\n",
        "- Auc mean number 1 = 0.64 \n",
        "\n",
        "- Auc mean number 2 = 0.58 \n",
        "\n",
        "- Auc mean number 3 = 0.61 \n",
        "\n",
        "- Auc mean number 4 = 0.61 \n",
        "\n",
        "- Auc mean number 5 = 0.58 \n",
        "\n",
        "- Auc mean number 6 = 0.57 \n",
        "\n",
        "- Auc mean number 7 = 0.58 \n",
        "\n",
        "- Auc mean number 8 = 0.53 \n",
        "\n",
        "- Auc mean number 9 = 0.61 \n",
        "\n",
        "- Auc mean number 10 = 0.60 \n",
        "\n",
        "- **Final Mean: 0.59**\n",
        "\n",
        "#### **LearnignRate = 0.003**\n",
        "Learning Rate = 0.001, Beta1=0.9, Beta2=0.99,AMSGRAD=false\n",
        "\n",
        "Medias de todas las curvas ROC\n",
        "\n",
        "- Auc mean number 1 = 0.62 \n",
        "\n",
        "- Auc mean number 2 = 0.51 \n",
        "\n",
        "- Auc mean number 3 = 0.63 \n",
        "\n",
        "- Auc mean number 4 = 0.62 \n",
        "\n",
        "- Auc mean number 5 = 0.57 \n",
        "\n",
        "- Auc mean number 6 = 0.58 \n",
        "\n",
        "- Auc mean number 7 = 0.61 \n",
        "\n",
        "- Auc mean number 8 = 0.54 \n",
        "\n",
        "- Auc mean number 9 = 0.56 \n",
        "\n",
        "- Auc mean number 10 = 0.60 \n",
        "\n",
        "- **Final Mean: 0.58 **\n",
        "\n",
        "#### **Beta1=0.85,Beta2=0,95**\n",
        "Learning Rate = 0.001, Beta1=0.9, Beta2=0.99,AMSGRAD=false\n",
        "\n",
        "Medias de todas las curvas ROC\n",
        "\n",
        "- Auc mean number 1 = 0.63 \n",
        "\n",
        "- Auc mean number 2 = 0.58 \n",
        "\n",
        "- Auc mean number 3 = 0.60 \n",
        "\n",
        "- Auc mean number 4 = 0.61 \n",
        "\n",
        "- Auc mean number 5 = 0.57 \n",
        "\n",
        "- Auc mean number 6 = 0.58 \n",
        "\n",
        "- Auc mean number 7 = 0.59 \n",
        "\n",
        "- Auc mean number 8 = 0.54 \n",
        "\n",
        "- Auc mean number 9 = 0.62 \n",
        "\n",
        "- Auc mean number 10 = 0.60 \n",
        "\n",
        "-** Final Mean: 0.59**\n",
        "\n",
        "\n",
        "#### **PARAMETROS FINALES**\n",
        "\n",
        "Learning Rate = 0.003, Beta1=0.9, Beta2=0.95 AMSGRAD=false\n",
        "\n",
        "** Final Mean: 0.59**\n"
      ]
    },
    {
      "metadata": {
        "id": "uk126ZPLdfj8",
        "colab_type": "text"
      },
      "cell_type": "markdown",
      "source": [
        "###Ajustes extra\n"
      ]
    },
    {
      "metadata": {
        "id": "73O_pA6BQNfe",
        "colab_type": "text"
      },
      "cell_type": "markdown",
      "source": [
        "####Batch Normalization\n",
        "\n",
        "Batch Normalization es una técnica que se emplea para normalizar la salida de las neuronas de tal forma que sigan una distribución Gaussiana. Estos pesos, al ir transmitiendose por la red, hace de la red una más normalizada, haciendo que de una capa a otra no haya saltos muy grandes en los pesos. Con esto obtenemos 3 beneficios:\n",
        "\n",
        "* Aseguramos que las salidas de las funciones de activación estén en la misma región en cualquier punto de la red \n",
        "* Regularizamos el modelo\n",
        "* Obtenemos, en nuestro caso, una mejora en la tasa de acierto\n",
        "\n",
        "Ejecución Wilcoxon:\n",
        "\n",
        "* x = Empleando Batch Normalization\n",
        "* y = Sin usar Batch Normalization\n",
        "\n",
        "Final AUC Mean : 0.64 \n",
        "\n",
        "![texto alternativo](https://i.gyazo.com/8f7c1b9107681611d214a0d095d39814.png)\n",
        "\n",
        "![texto alternativo](https://i.gyazo.com/403bb753f9bf48408eb635a325c4a0c9.png)\n",
        "\n",
        "![texto alternativo](https://i.gyazo.com/8090051e7ebed9965d5955941a6deda5.png)\n",
        "\n",
        "![texto alternativo](https://i.gyazo.com/4dc2f01095d76da657534809a7bf8f52.png)"
      ]
    },
    {
      "metadata": {
        "id": "J5NF82AnTIYN",
        "colab_type": "text"
      },
      "cell_type": "markdown",
      "source": [
        "##Otras pruebas realizadas\n"
      ]
    },
    {
      "metadata": {
        "id": "SAT3qPIndWUm",
        "colab_type": "text"
      },
      "cell_type": "markdown",
      "source": [
        "###Guardar mejor resultado de la red\n",
        "\n",
        "Otra de las mejoras que hemos probado es la de almacenar en un archivo de texto el mejor resultado de la red de acuerdo a la accuracy del test. Esto se hace generando un archivo donde la red, si comprueba que la accuracy obtenida en una época es mejor que la que lleva, cambia los pesos del archivo a los nuevos. Al final se recuperan los mejores pesos, y probamos sacando la curva ROC de ambos modelos, el entrenado completamente y el almacenado.\n",
        "\n",
        "El resultado fue el mismo, ambos obteniamos una curva ROC similar, con una misma media AUC, salvo alguna excepción donde había una muy pequeña mejora. Sin embargo, el proceso de guardar los pesos y de recuperarlos nos suponía un tiempo bastante alto, por lo que por no perder rendimiento por una mejora muy breve decidimos no emplearla al final."
      ]
    },
    {
      "metadata": {
        "id": "noSRqWN_PFi-",
        "colab_type": "text"
      },
      "cell_type": "markdown",
      "source": [
        "#Mejoras avanzadas\n"
      ]
    },
    {
      "metadata": {
        "id": "zGSfUI3fPO2H",
        "colab_type": "text"
      },
      "cell_type": "markdown",
      "source": [
        "## Custom Data Augmentation\n",
        "\n",
        "El data augmentation que proporciona keras nos permite de manera automática generar nuevas imágenes que probar en la red, con modificaciones como rotación, flip horizontal/vertical, etc. Sin embargo, con este método se generan imágenes en base a los datos que le pasemos de manera aleatoria, por lo que uno de los problemas que tenemos con este datast persiste: la cantidad de imágenes de cada clase es dispar. De forma incial tenemos:\n",
        "* Clase 0: 547\n",
        "* Clase 1: 153\n",
        "* Clase 2: 246\n",
        "* Clase 3: 254\n",
        "\n",
        "Así pues para solventar esto vamos a emplear el mismo objeto de keras, el DataGenerator, para crear imágenes de las clases con menos ejemplos y así igualar el número al de la clase con más representación\n",
        "\n",
        "\n"
      ]
    },
    {
      "metadata": {
        "id": "_lBI1vLUVwnF",
        "colab_type": "text"
      },
      "cell_type": "markdown",
      "source": [
        "### Explicación del método custom_generator\n"
      ]
    },
    {
      "metadata": {
        "id": "51M99p7QR0YI",
        "colab_type": "code",
        "colab": {}
      },
      "cell_type": "code",
      "source": [
        "def custom_generator(x,y):\n",
        " \n",
        "  count = collections.Counter(y)\n",
        "  \n",
        "  #get the number of images that has the class with the most images\n",
        "  max_num = 0\n",
        "  for key,value in count.items():\n",
        "    if value>max_num:\n",
        "      max_num=value\n",
        "  \n",
        "  #new arrays\n",
        "  new_x_array = x\n",
        "  new_y_array = []\n",
        "  \n",
        "  print(\"num of images loaded x={},y={}\".format(len(x),len(y)))\n",
        "\n",
        "  for i in range(nb_classes):"
      ],
      "execution_count": 0,
      "outputs": []
    },
    {
      "metadata": {
        "id": "p-w-_4gOR1GB",
        "colab_type": "text"
      },
      "cell_type": "markdown",
      "source": [
        "El método recibe las imágenes y los labels correspondientes. Para empezar, se cuentan cuantas imágenes de cada clase tenemos y obtenemos de ellas el máximo. Inicializamos dos listas, una donde iremos añadiendo las imágenes y otra donde añadiremos la clase de las nuevas imágenes. Luego, por cada una de las clases, ejecutaremos el siguiente proceso:\n"
      ]
    },
    {
      "metadata": {
        "id": "5_DOrgSeSPs7",
        "colab_type": "code",
        "colab": {}
      },
      "cell_type": "code",
      "source": [
        "#loads the number of images that we need to add to equilibrate the actual class i\n",
        "    images_to_add = max_num - count[i]\n",
        "    \n",
        "    #gets the images from a class\n",
        "    indexes = []    \n",
        "    for j in range(len(x)):\n",
        "      if y[j] == i:\n",
        "        indexes.append(j)\n",
        "    \n",
        "    images_added=0\n",
        "\n",
        "    values_x=x[indexes]\n",
        "    values_y=y[indexes]\n",
        "    \n",
        "    #Data augmentation\n",
        "    data_generator = ImageDataGenerator( horizontal_flip=True,\n",
        "                                               width_shift_range = 0.1,\n",
        "                                               height_shift_range =0.1,\n",
        "                                               rotation_range=10)\n",
        "\n",
        "    image_generator = data_generator.flow(values_x,\n",
        "                                                values_y,\n",
        "                                                batch_size=1)\n",
        "   #adds the images\n",
        "    for new_x_batch,new_y_batch in image_generator:\n",
        "      \n",
        "      image  = new_x_batch[0][np.newaxis,:,:,]\n",
        "     \n",
        "      new_x_array = np.append(new_x_array,image,axis=0)\n",
        "      \n",
        "      new_y_array.append(new_y_batch[0])\n",
        "\n",
        "      images_added+=1\n",
        "      if images_added>=images_to_add:\n",
        "\n",
        "        break"
      ],
      "execution_count": 0,
      "outputs": []
    },
    {
      "metadata": {
        "id": "Bs6r7q2hSP8T",
        "colab_type": "text"
      },
      "cell_type": "markdown",
      "source": [
        "Calculamos en primer lugar el número de imagenes que tenemos que añadir para igualar al máximo. Luego, puesto que tenemos que generar imágenes de una clase únicamente, cojeremos las imágenes del dataset original que cumplan que sean de esa clase, y a partir de este subconjunto de datos generaremos un ImageGenerator sobre el que generaremos nuevas imágenes de esa clase.\n",
        "\n",
        "Nota 1: El batch_size es 1 para que se genere en cada iteración una única image, la cual añadiremos al conjunto de datos.\n",
        "\n",
        "Nota 2: Para que keras pueda funcionar, la red neuronal necesita que los inputs sean arrays de numpy con 4 dimensiones. Así, para poder añadir la nueva imagen correctamente pasamos que sea de tamaño *(widht,height,rgb values*) a (*1,widht,height,rgb values*) para poder añadirla al array que es de tamaño (*num_images,width,heigth,rgb values*)."
      ]
    },
    {
      "metadata": {
        "id": "HZ5p_2v_Twem",
        "colab_type": "code",
        "colab": {}
      },
      "cell_type": "code",
      "source": [
        "#adds all the images and returns them\n",
        "  y = np.append(y,np.asarray(new_y_array)) \n",
        "  x = new_x_array\n",
        "  print(\"number of augmented images x={},y={}\".format(len(x),len(y)))\n",
        " \n",
        "\n",
        "  return x,y"
      ],
      "execution_count": 0,
      "outputs": []
    },
    {
      "metadata": {
        "id": "cY4_F2qtTwt-",
        "colab_type": "text"
      },
      "cell_type": "markdown",
      "source": [
        "Por último, añadiremos los label generados al qe ya teniamos y devolveremos los nuevos datos.\n",
        "\n",
        "\n"
      ]
    },
    {
      "metadata": {
        "id": "YR522mSzVrEO",
        "colab_type": "text"
      },
      "cell_type": "markdown",
      "source": [
        "###Resultados"
      ]
    },
    {
      "metadata": {
        "id": "70syuknZVnhC",
        "colab_type": "text"
      },
      "cell_type": "markdown",
      "source": [
        "A continuación, dejamos una comparativa entre dos experimentos: el primero, realizado con el imageDataGenerator de keras y el segundo empleando el dataset con los datos aumentados mediante este método:\n",
        "\n",
        "Final Mean: 0.70 \n",
        "\n",
        "\n",
        "![texto alternativo](https://i.gyazo.com/e49dca70ac983bf6f7a0443806576589.png)\n",
        "\n",
        "![texto alternativo](https://i.gyazo.com/489ea9c7d8aa0522957b9016990145aa.png)\n",
        "\n",
        "![texto alternativo](https://i.gyazo.com/fcd93d310dafe2488cfc96d4cc42c427.png)\n",
        "\n",
        "![texto alternativo](https://i.gyazo.com/3e639a24d230f8a7442ea41371283931.png)\n"
      ]
    },
    {
      "metadata": {
        "id": "5t42LTYAvaUR",
        "colab_type": "text"
      },
      "cell_type": "markdown",
      "source": [
        "## Uso de red preentrenada\n",
        "\n",
        "Una de las mejoras propuestas era la de emplear una red ya existente para adaptarla a nuestro problema concreto. Para ello, mediante keras se pueden cargar dichas redes e importarlas como modelos con los pesos ya entrenados."
      ]
    },
    {
      "metadata": {
        "id": "rlGPuXzYv4j9",
        "colab_type": "text"
      },
      "cell_type": "markdown",
      "source": [
        "### VGG16\n",
        "\n",
        "Nuestra primera prueba era probar con la red vgg16. Esta red la hemos cargado con los siguientes ajustes, además de la simple llamada:\n",
        "\n"
      ]
    },
    {
      "metadata": {
        "id": "aTmBRztHq4g0",
        "colab_type": "code",
        "colab": {}
      },
      "cell_type": "code",
      "source": [
        "base_model = VGG16\n",
        "base_model = base_model(weights='imagenet', include_top=False)\n",
        "x = base_model.output\n",
        "x = GlobalAveragePooling2D()(x)\n",
        "x = Dense(1024, activation='sigmoid')(x)\n",
        "x = Dropout(0.4)(x)\n",
        "predictions = Dense(4, activation='softmax')(x)\n",
        "model = Model(inputs=base_model.input, outputs=predictions)"
      ],
      "execution_count": 0,
      "outputs": []
    },
    {
      "metadata": {
        "id": "tvZWDhsKrBjs",
        "colab_type": "text"
      },
      "cell_type": "markdown",
      "source": [
        "Tras su entrenamiento, comparándola con el mejor de los resultados que hemos obtenido con la red lesnet, hemos obtenido este resultado:\n",
        "\n",
        "Final Mean: 0.85 \n",
        "\n",
        "![texto alternativo](https://i.gyazo.com/ffb7d1933618b8222ac31379fe787b58.png)\n",
        "\n",
        "![texto alternativo](https://i.gyazo.com/2dc54a4c8c642f0bfe8c5c8fa59e1c30.png)\n",
        "\n",
        "![texto alternativo](https://i.gyazo.com/da0cdf9c9ff98fc6487cddb91ff0fefc.png)\n",
        "\n",
        "![texto alternativo](https://i.gyazo.com/6b76199125ad511d805701a6b1a8668c.png)\n",
        "\n",
        "Como pdemos observar, hemos obtenido unos resutados muchísimo mejores a los anteriores, a costa, eso si, de un tiempo de entrenamiento mayor (la primera época tardaba unos 50s vs 6s en la lesnet y a partir de esta primera época tardaba cada una 9s vs 1-2s de la lesnet)\n"
      ]
    },
    {
      "metadata": {
        "id": "IyKZMn3K21FL",
        "colab_type": "text"
      },
      "cell_type": "markdown",
      "source": [
        "# Referencias\n",
        "\n"
      ]
    },
    {
      "metadata": {
        "id": "Ss22G23i5nrJ",
        "colab_type": "text"
      },
      "cell_type": "markdown",
      "source": [
        "https://es.wikipedia.org/wiki/Validaci%C3%B3n_cruzada#Tipos_de_validaciones_cruzadas\n",
        "\n",
        "https://towardsdatascience.com/intuit-and-implement-batch-normalization-c05480333c5b\n",
        "\n",
        "https://keras.io/\n",
        "\n",
        "http://yann.lecun.com/exdb/lenet/\n",
        "\n",
        "https://keras.io/applications/#usage-examples-for-image-classification-models\n",
        "\n",
        "\n",
        "\n",
        "\n"
      ]
    }
  ]
}